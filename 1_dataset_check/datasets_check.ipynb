{
 "cells": [
  {
   "cell_type": "code",
   "execution_count": 1,
   "metadata": {},
   "outputs": [],
   "source": [
    "import fiftyone as fo\n",
    "import fiftyone.zoo as foz\n",
    "import shutil\n",
    "import os"
   ]
  },
  {
   "cell_type": "code",
   "execution_count": null,
   "metadata": {},
   "outputs": [],
   "source": [
    "print(fo.list_datasets())\n",
    "\n",
    "#if need to delete a persistent fo_dataset\n",
    "del_dataset=[\"ADE20K\"]\n",
    "fo.delete_datasets(del_dataset)"
   ]
  },
  {
   "cell_type": "markdown",
   "metadata": {},
   "source": [
    "## Checking ADE20K Dataset"
   ]
  },
  {
   "cell_type": "code",
   "execution_count": 2,
   "metadata": {},
   "outputs": [
    {
     "name": "stdout",
     "output_type": "stream",
     "text": [
      "Session launched. Run `session.show()` to open the App in a cell output.\n"
     ]
    },
    {
     "data": {
      "text/plain": [
       "'http://localhost:5151/'"
      ]
     },
     "execution_count": 2,
     "metadata": {},
     "output_type": "execute_result"
    }
   ],
   "source": [
    "#Load dataset\n",
    "dir_path=\"/home/ferds/Desktop/ferds_model_training/3_datasets/ADE20K/984554_training/images\"      # Directory containing your images\n",
    "label_path=\"/home/ferds/Desktop/ferds_model_training/3_datasets/ADE20K/984554_training/annotations/instances.json\"  # Path to your COCO format JSON file\n",
    "set_name=\"ADE20K\" # Name of dataset, Provide one if none yet\n",
    "\n",
    "try:\n",
    "    dataset = fo.Dataset.from_dir(\n",
    "        dataset_type=fo.types.COCODetectionDataset,\n",
    "        data_path=dir_path,\n",
    "        labels_path=label_path,\n",
    "        name=set_name                 \n",
    "    )\n",
    "    dataset=fo.load_dataset(set_name)\n",
    "    dataset.save()\n",
    "    session=fo.launch_app(dataset,auto=False)\n",
    "\n",
    "except ValueError:\n",
    "    dataset=fo.load_dataset(set_name)\n",
    "    session=fo.launch_app(dataset,auto=False)\n",
    "\n",
    "session.url"
   ]
  },
  {
   "cell_type": "markdown",
   "metadata": {},
   "source": [
    "## Checking SAMA-COCO Dataset"
   ]
  },
  {
   "cell_type": "code",
   "execution_count": null,
   "metadata": {},
   "outputs": [],
   "source": [
    "dataset = foz.load_zoo_dataset(\"sama-coco\", splits=\"validation\", label_types=\"segmentations\", include_id=True, )\n",
    "#coco_val_dataset = foz.load_zoo_dataset(\"coco-2017\", split=\"validation\", label_types=\"segmentations\", include_id=True)\n",
    "foz.load_zoo_dataset\n",
    "#dataset.rename_sample_field(\"segmentations\", \"sama_segmentations\")\n",
    "#coco_val_dataset.rename_sample_field(\"segmentations\", \"coco_segmentations\")\n",
    "\n",
    "#dataset.merge_samples(coco_val_dataset, key_field=\"coco_id\")\n",
    "\n",
    "session = fo.launch_app(dataset, auto=False)\n",
    "session.url"
   ]
  },
  {
   "cell_type": "markdown",
   "metadata": {},
   "source": [
    "## Checking Working Custom Dataset"
   ]
  },
  {
   "cell_type": "code",
   "execution_count": null,
   "metadata": {},
   "outputs": [],
   "source": [
    "#Load dataset made\n",
    "dir_path=\"3_datasets/office_objects.v3i.coco/train\"      # Directory containing your images\n",
    "label_path=\"3_datasets/office_objects.v3i.coco/train/_annotations.coco.json\"  # Path to your COCO format JSON file\n",
    "set_name=\"working_dataset\" # Name of dataset, Provide one if none yet\n",
    "\n",
    "try:\n",
    "    dataset = fo.Dataset.from_dir(\n",
    "        dataset_type=fo.types.COCODetectionDataset,\n",
    "        data_path=dir_path,\n",
    "        labels_path=label_path,\n",
    "        name=set_name                 \n",
    "    )\n",
    "    dataset=fo.load_dataset(set_name)\n",
    "    dataset.save()\n",
    "    session=fo.launch_app(dataset,auto=False)\n",
    "\n",
    "except ValueError:\n",
    "    dataset=fo.load_dataset(set_name)\n",
    "    session=fo.launch_app(dataset,auto=False)\n",
    "\n",
    "session.url"
   ]
  },
  {
   "cell_type": "code",
   "execution_count": null,
   "metadata": {},
   "outputs": [],
   "source": []
  }
 ],
 "metadata": {
  "kernelspec": {
   "display_name": ".coco",
   "language": "python",
   "name": "python3"
  },
  "language_info": {
   "codemirror_mode": {
    "name": "ipython",
    "version": 3
   },
   "file_extension": ".py",
   "mimetype": "text/x-python",
   "name": "python",
   "nbconvert_exporter": "python",
   "pygments_lexer": "ipython3",
   "version": "3.12.3"
  }
 },
 "nbformat": 4,
 "nbformat_minor": 2
}
